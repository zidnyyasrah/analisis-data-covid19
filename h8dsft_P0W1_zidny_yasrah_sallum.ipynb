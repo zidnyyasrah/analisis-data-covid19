{
  "cells": [
    {
      "attachments": {},
      "cell_type": "markdown",
      "metadata": {
        "id": "mB_vu0nDPpUb"
      },
      "source": [
        "# **Graded Challenge 1**\n",
        "\n"
      ]
    },
    {
      "attachments": {},
      "cell_type": "markdown",
      "metadata": {
        "id": "ajKLyhJJP57L"
      },
      "source": [
        "# **Introduction**\n",
        "\n",
        "**Halo!**  \n",
        "\n",
        "saya **Zidny Yasrah Sallum**, student di Hacktiv8 Batch RMT-20. \n",
        "\n",
        "Saya akan menganalisa dataset yang diberikan pada graded challenge yang pertama ini, saya harap output yang saya berikan sesuai dengan kriteria penilaian.\n",
        "\n"
      ]
    },
    {
      "attachments": {},
      "cell_type": "markdown",
      "metadata": {
        "id": "0fHisXdBkwRG"
      },
      "source": [
        "## Latar Belakang\n",
        "\n",
        "Dataset yang diberikan adalah berbagai informasi tentang perkembangan kasus covid-19 dari berbagai negara.\n",
        "\n",
        "informasi dataset yang diberikan berupa state, country, date, latitude dan longitude, location_geom, confirmed, deaths, recovered, active, fips code, admin, dan combined_key yang berisi admin, state dan country.\n",
        "\n",
        "dataset ini mengandung 4264080 baris!, dikarenakan luasnya dataset yang diberikan, banyak yang bisa dilakukan dalam data ini seperti melihat tingkat kematian, perkembangan kasus covid-19, bahkan sesuatu seperti melihat perbandingan performa negara dalam menangani kasus covid-19."
      ]
    },
    {
      "attachments": {},
      "cell_type": "markdown",
      "metadata": {
        "id": "gfVlrMy0QN00"
      },
      "source": [
        "## Problem Statement\n",
        "* Negara dengan jumlah penduduk yang terinfeksi covid-19 tertinggi dan terendah.\n",
        "* Perkembangan kasus covid-19 dari waktu ke waktu di setiap negara.\n",
        "* Indonesia vs US dalam menangani kasus covid-19 \n",
        "\n"
      ]
    },
    {
      "attachments": {},
      "cell_type": "markdown",
      "metadata": {
        "id": "5kMFgkwuR28l"
      },
      "source": [
        "# **Import Library**"
      ]
    },
    {
      "cell_type": "code",
      "execution_count": 92,
      "metadata": {
        "id": "BTni0yfJR_Yo"
      },
      "outputs": [],
      "source": [
        "import numpy as np\n",
        "import pandas as pd\n",
        "import matplotlib.pyplot as plt"
      ]
    },
    {
      "attachments": {},
      "cell_type": "markdown",
      "metadata": {
        "id": "fTEpSX-ySPm7"
      },
      "source": [
        "# **Data Loading**\n",
        "\n"
      ]
    },
    {
      "attachments": {},
      "cell_type": "markdown",
      "metadata": {
        "id": "N9UCvk-TUHe9"
      },
      "source": [
        "Berikut query yang saya pakai di bigquery untuk mengambil beberapa data dari dataset yang diberikan"
      ]
    },
    {
      "attachments": {},
      "cell_type": "markdown",
      "metadata": {
        "id": "eZJXvFiST2L8"
      },
      "source": [
        "SELECT \n",
        "\n",
        " country_region, date, confirmed, deaths, recovered, active\n",
        "\n",
        "FROM\n",
        "\n",
        "  `bigquery-public-data.covid19_jhu_csse_eu.summary`;\n",
        "\n",
        "\n",
        "\n",
        "\n"
      ]
    },
    {
      "attachments": {},
      "cell_type": "markdown",
      "metadata": {
        "id": "oK8EFNNaUa6X"
      },
      "source": [
        "Saya hanya mengambil beberapa kolom dari dataset seperti country_region, date, confirmed, deaths, recovered, active dikarenakan tabel yang lain tidak berkaitan dengan problem statement yang saya miliki. Hasil dataset dari query tersebut saya export ke drive dan disave ke local."
      ]
    },
    {
      "cell_type": "code",
      "execution_count": 93,
      "metadata": {
        "id": "QBY0zLV9WRfe"
      },
      "outputs": [],
      "source": [
        "# Menggunakan library pandas untuk read file csv\n",
        "df = pd.read_csv('h8dsft_P0GC1_Zidny_Yasrah_Sallum.csv')"
      ]
    },
    {
      "cell_type": "code",
      "execution_count": 94,
      "metadata": {},
      "outputs": [
        {
          "data": {
            "text/plain": [
              "(4264080, 6)"
            ]
          },
          "execution_count": 94,
          "metadata": {},
          "output_type": "execute_result"
        }
      ],
      "source": [
        "# Untuk memastikan saya mendownload semua data dari hasil query\n",
        "df.shape"
      ]
    },
    {
      "cell_type": "code",
      "execution_count": 95,
      "metadata": {
        "colab": {
          "base_uri": "https://localhost:8080/",
          "height": 206
        },
        "id": "3ZNrL-NSe_bR",
        "outputId": "c4afa503-5a09-4a6c-f5eb-3f1d068d0e6a"
      },
      "outputs": [
        {
          "data": {
            "text/html": [
              "<div>\n",
              "<style scoped>\n",
              "    .dataframe tbody tr th:only-of-type {\n",
              "        vertical-align: middle;\n",
              "    }\n",
              "\n",
              "    .dataframe tbody tr th {\n",
              "        vertical-align: top;\n",
              "    }\n",
              "\n",
              "    .dataframe thead th {\n",
              "        text-align: right;\n",
              "    }\n",
              "</style>\n",
              "<table border=\"1\" class=\"dataframe\">\n",
              "  <thead>\n",
              "    <tr style=\"text-align: right;\">\n",
              "      <th></th>\n",
              "      <th>country_region</th>\n",
              "      <th>date</th>\n",
              "      <th>confirmed</th>\n",
              "      <th>deaths</th>\n",
              "      <th>recovered</th>\n",
              "      <th>active</th>\n",
              "    </tr>\n",
              "  </thead>\n",
              "  <tbody>\n",
              "    <tr>\n",
              "      <th>0</th>\n",
              "      <td>US</td>\n",
              "      <td>2020-05-15</td>\n",
              "      <td>3.0</td>\n",
              "      <td>0.0</td>\n",
              "      <td>0.0</td>\n",
              "      <td>3.0</td>\n",
              "    </tr>\n",
              "    <tr>\n",
              "      <th>1</th>\n",
              "      <td>US</td>\n",
              "      <td>2020-05-15</td>\n",
              "      <td>88.0</td>\n",
              "      <td>0.0</td>\n",
              "      <td>0.0</td>\n",
              "      <td>88.0</td>\n",
              "    </tr>\n",
              "    <tr>\n",
              "      <th>2</th>\n",
              "      <td>US</td>\n",
              "      <td>2020-05-15</td>\n",
              "      <td>695.0</td>\n",
              "      <td>23.0</td>\n",
              "      <td>0.0</td>\n",
              "      <td>672.0</td>\n",
              "    </tr>\n",
              "    <tr>\n",
              "      <th>3</th>\n",
              "      <td>US</td>\n",
              "      <td>2020-05-15</td>\n",
              "      <td>1.0</td>\n",
              "      <td>0.0</td>\n",
              "      <td>0.0</td>\n",
              "      <td>1.0</td>\n",
              "    </tr>\n",
              "    <tr>\n",
              "      <th>4</th>\n",
              "      <td>US</td>\n",
              "      <td>2020-05-15</td>\n",
              "      <td>8.0</td>\n",
              "      <td>0.0</td>\n",
              "      <td>0.0</td>\n",
              "      <td>8.0</td>\n",
              "    </tr>\n",
              "  </tbody>\n",
              "</table>\n",
              "</div>"
            ],
            "text/plain": [
              "  country_region        date  confirmed  deaths  recovered  active\n",
              "0             US  2020-05-15        3.0     0.0        0.0     3.0\n",
              "1             US  2020-05-15       88.0     0.0        0.0    88.0\n",
              "2             US  2020-05-15      695.0    23.0        0.0   672.0\n",
              "3             US  2020-05-15        1.0     0.0        0.0     1.0\n",
              "4             US  2020-05-15        8.0     0.0        0.0     8.0"
            ]
          },
          "execution_count": 95,
          "metadata": {},
          "output_type": "execute_result"
        }
      ],
      "source": [
        "# Melihat 5 baris pertama dari dataset\n",
        "df.head()"
      ]
    },
    {
      "cell_type": "code",
      "execution_count": 96,
      "metadata": {
        "colab": {
          "base_uri": "https://localhost:8080/",
          "height": 206
        },
        "id": "Ibvrlc7NfJlK",
        "outputId": "f312a05c-7dea-4f80-fdb6-c9ad5a3e131b"
      },
      "outputs": [
        {
          "data": {
            "text/html": [
              "<div>\n",
              "<style scoped>\n",
              "    .dataframe tbody tr th:only-of-type {\n",
              "        vertical-align: middle;\n",
              "    }\n",
              "\n",
              "    .dataframe tbody tr th {\n",
              "        vertical-align: top;\n",
              "    }\n",
              "\n",
              "    .dataframe thead th {\n",
              "        text-align: right;\n",
              "    }\n",
              "</style>\n",
              "<table border=\"1\" class=\"dataframe\">\n",
              "  <thead>\n",
              "    <tr style=\"text-align: right;\">\n",
              "      <th></th>\n",
              "      <th>country_region</th>\n",
              "      <th>date</th>\n",
              "      <th>confirmed</th>\n",
              "      <th>deaths</th>\n",
              "      <th>recovered</th>\n",
              "      <th>active</th>\n",
              "    </tr>\n",
              "  </thead>\n",
              "  <tbody>\n",
              "    <tr>\n",
              "      <th>4264075</th>\n",
              "      <td>US</td>\n",
              "      <td>2022-09-29</td>\n",
              "      <td>165502.0</td>\n",
              "      <td>577.0</td>\n",
              "      <td>NaN</td>\n",
              "      <td>NaN</td>\n",
              "    </tr>\n",
              "    <tr>\n",
              "      <th>4264076</th>\n",
              "      <td>US</td>\n",
              "      <td>2022-09-29</td>\n",
              "      <td>3136.0</td>\n",
              "      <td>52.0</td>\n",
              "      <td>NaN</td>\n",
              "      <td>NaN</td>\n",
              "    </tr>\n",
              "    <tr>\n",
              "      <th>4264077</th>\n",
              "      <td>US</td>\n",
              "      <td>2022-09-29</td>\n",
              "      <td>2211.0</td>\n",
              "      <td>15.0</td>\n",
              "      <td>NaN</td>\n",
              "      <td>NaN</td>\n",
              "    </tr>\n",
              "    <tr>\n",
              "      <th>4264078</th>\n",
              "      <td>US</td>\n",
              "      <td>2022-09-29</td>\n",
              "      <td>14073.0</td>\n",
              "      <td>124.0</td>\n",
              "      <td>NaN</td>\n",
              "      <td>NaN</td>\n",
              "    </tr>\n",
              "    <tr>\n",
              "      <th>4264079</th>\n",
              "      <td>US</td>\n",
              "      <td>2022-09-29</td>\n",
              "      <td>19382.0</td>\n",
              "      <td>146.0</td>\n",
              "      <td>NaN</td>\n",
              "      <td>NaN</td>\n",
              "    </tr>\n",
              "  </tbody>\n",
              "</table>\n",
              "</div>"
            ],
            "text/plain": [
              "        country_region        date  confirmed  deaths  recovered  active\n",
              "4264075             US  2022-09-29   165502.0   577.0        NaN     NaN\n",
              "4264076             US  2022-09-29     3136.0    52.0        NaN     NaN\n",
              "4264077             US  2022-09-29     2211.0    15.0        NaN     NaN\n",
              "4264078             US  2022-09-29    14073.0   124.0        NaN     NaN\n",
              "4264079             US  2022-09-29    19382.0   146.0        NaN     NaN"
            ]
          },
          "execution_count": 96,
          "metadata": {},
          "output_type": "execute_result"
        }
      ],
      "source": [
        "# Melihat 5 baris terakhir dari dataset\n",
        "df.tail()"
      ]
    },
    {
      "attachments": {},
      "cell_type": "markdown",
      "metadata": {
        "id": "72mYO-abA3hP"
      },
      "source": [
        "Dari tail dan head dataset diatas, country_region berisikan hanya 'US', sebenarnya saya belum tahu apakah data ini hanya mengandung country region hanya dari US atau mengandung seluruh data negara, untuk itu saya ingin melihat daftar negara yang ada di dataset ini"
      ]
    },
    {
      "cell_type": "code",
      "execution_count": 97,
      "metadata": {
        "colab": {
          "base_uri": "https://localhost:8080/"
        },
        "id": "ghOYbI1nBLLW",
        "outputId": "fd9e8043-f9bc-4284-a33e-27a9d98c55df"
      },
      "outputs": [
        {
          "name": "stdout",
          "output_type": "stream",
          "text": [
            "['US' 'Italy' 'United Kingdom' 'China' 'Germany' 'Spain' 'Netherlands'\n",
            " 'Canada' 'Denmark' 'Angola' 'Austria' 'Bhutan' 'Bolivia' 'Brazil'\n",
            " 'Cambodia' 'Cyprus' 'Czechia' 'Djibouti' 'Dominica' 'Gabon' 'Georgia'\n",
            " 'Guyana' 'Hungary' 'Indonesia' 'Japan' 'Lithuania' 'Luxembourg'\n",
            " 'Maldives' 'Malta' 'Nigeria' 'North Macedonia' 'Oman'\n",
            " 'Saint Vincent and the Grenadines' 'Tunisia' 'Western Sahara' 'Yemen'\n",
            " 'Albania' 'Belgium' 'Bosnia and Herzegovina' 'Botswana' 'Chile'\n",
            " 'Colombia' 'Congo (Brazzaville)' 'Cuba' 'Finland' 'France' 'Ghana'\n",
            " 'Haiti' 'India' 'Korea, North' 'Malaysia' 'Mexico' 'Nicaragua' 'Niger'\n",
            " 'Norway' 'Pakistan' 'Papua New Guinea' 'Peru' 'Russia'\n",
            " 'Sao Tome and Principe' 'Saudi Arabia' 'South Africa' 'South Sudan'\n",
            " 'Summer Olympics 2020' 'Sweden' 'Tajikistan' 'Timor-Leste' 'Ukraine'\n",
            " 'West Bank and Gaza' 'Zambia' 'Iran' 'Mainland China' 'Switzerland'\n",
            " 'Iceland' 'Israel' 'Croatia' 'Estonia' 'Macau' 'New Zealand'\n",
            " 'Saint Barthelemy' 'Australia' 'Gibraltar' 'Liechtenstein' 'Nepal'\n",
            " 'Bahamas' 'Bangladesh' 'Central African Republic' 'Chad' 'Greece'\n",
            " 'Jordan' 'Kiribati' 'Malawi' 'Mali' 'Sierra Leone' 'Trinidad and Tobago'\n",
            " 'Turkey' 'Tuvalu' 'Uganda' 'Winter Olympics 2022' 'Zimbabwe' 'Armenia'\n",
            " 'Brunei' 'Burma' 'Eswatini' 'Grenada' 'Kenya' 'Latvia' 'Morocco' 'Panama'\n",
            " 'Philippines' 'Saint Kitts and Nevis' 'Samoa' 'San Marino' 'Senegal'\n",
            " 'Slovenia' 'Sri Lanka' 'Sudan' 'Uruguay' 'Afghanistan' 'Azerbaijan'\n",
            " 'Burkina Faso' 'Burundi' 'Comoros' 'Egypt' 'Holy See' 'Kazakhstan'\n",
            " 'Korea, South' 'Paraguay' 'Poland' 'Saint Lucia' 'Somalia' 'Taiwan*'\n",
            " 'Tanzania' 'Antigua and Barbuda' 'Argentina' 'Benin' 'Bulgaria'\n",
            " 'Congo (Kinshasa)' 'Ethiopia' 'Fiji' 'Guinea' 'Liberia' 'Mauritania'\n",
            " 'Monaco' 'Syria' 'Thailand' 'Costa Rica' 'Ecuador' 'Lebanon' 'Mauritius'\n",
            " 'Qatar' 'Algeria' 'Belize' 'Cabo Verde' 'Diamond Princess' 'El Salvador'\n",
            " 'Kosovo' 'Laos' 'Marshall Islands' 'Mongolia' 'Vietnam' 'Barbados'\n",
            " 'Cameroon' \"Cote d'Ivoire\" 'Solomon Islands' 'Tonga' 'Belarus'\n",
            " 'Dominican Republic' 'Lesotho' 'Madagascar' 'Montenegro' 'Namibia'\n",
            " 'Palau' 'Romania' 'Singapore' 'Equatorial Guinea' 'Eritrea' 'Ireland'\n",
            " 'Suriname' 'Uzbekistan' 'Gambia' 'Honduras' 'Rwanda' 'Serbia' 'Togo'\n",
            " 'Slovakia' 'Iraq' 'Micronesia' 'Vanuatu' 'Kyrgyzstan' 'Antarctica'\n",
            " 'Jamaica' 'United Arab Emirates' 'MS Zaandam' 'Andorra' 'Guinea-Bissau'\n",
            " 'Kuwait' 'Seychelles' 'Guatemala' 'Moldova' 'Libya' 'Portugal' 'Bahrain'\n",
            " 'Nauru' 'Venezuela' 'Mozambique' 'Republic of Moldova' 'Cruise Ship'\n",
            " 'Aruba' 'Jersey' 'Hong Kong' 'UK' 'Taiwan' 'South Korea' 'Martinique'\n",
            " 'Mayotte' 'Puerto Rico' 'Others' 'Faroe Islands' 'Palestine'\n",
            " 'French Guiana' 'Reunion' 'Guadeloupe' 'Gambia, The' 'Guernsey'\n",
            " 'Hong Kong SAR' 'Czech Republic' 'Macao SAR' 'Channel Islands'\n",
            " 'Cayman Islands' 'Bahamas, The' 'North Ireland' 'Republic of the Congo'\n",
            " 'Greenland' 'Cape Verde' 'Guam' 'Vatican City'\n",
            " 'occupied Palestinian territory' 'The Bahamas' 'Republic of Ireland'\n",
            " 'Saint Martin' 'The Gambia' 'Ivory Coast' 'Republic of Korea' 'Viet Nam'\n",
            " 'Russian Federation' ' Azerbaijan' nan 'Taipei and environs' 'St. Martin'\n",
            " 'Iran (Islamic Republic of)' 'Curacao' 'East Timor']\n",
            "\n",
            "Jumlah negara adalah :  252\n"
          ]
        }
      ],
      "source": [
        "# Menampilkan unique value dari kolom country_region\n",
        "print(df['country_region'].unique())\n",
        "\n",
        "# Menampilkan jumlah unique value dari kolom country_region\n",
        "print('\\nJumlah negara adalah : ', end=' ')\n",
        "print(df['country_region'].nunique())"
      ]
    },
    {
      "attachments": {},
      "cell_type": "markdown",
      "metadata": {
        "id": "ScGaiP58EiDb"
      },
      "source": [
        "Dalam dataset diatas, terdapat total 252 negara\n",
        "\n",
        "saya melakukan sedikit riset untuk melihat total negara di dunia. Dikutip dari website nationsonline.org, \n",
        "\n",
        "\"Today there are 195 recognized sovereign states on the planet, the two countries which are not members of the United Nations are Palestine and Vatican City (they are so-called observer states). The IMF, the International Monetary Fund, lists on its \"Country Data Profile\" page 237 countries, without distinction, whether it is a sovereign country or a dependent territory. The United Nations' \"UN/LOCODE Code List by Country and Territory\" lists 248 countries and territories; the list also includes Antarctica.\"\n",
        "\n",
        "**jumlah negara 252 adalah angka yang terbilang aneh, dari data unique diatas terlihat secara sekilas ada country bernama Winter Olympics 2022, Summer Olympics 2020, dan Diamond Princess yang merupakan nama kapal pesiar!**"
      ]
    },
    {
      "attachments": {},
      "cell_type": "markdown",
      "metadata": {
        "id": "RggmhgSGSUyT"
      },
      "source": [
        "# **Data Cleaning**"
      ]
    },
    {
      "attachments": {},
      "cell_type": "markdown",
      "metadata": {},
      "source": [
        "### **Column Manipulation**"
      ]
    },
    {
      "attachments": {},
      "cell_type": "markdown",
      "metadata": {},
      "source": [
        "Untuk mencapai solusi dari problem statement, concern pertama saya adalah menghapus isi dari country_region yang bukan negara."
      ]
    },
    {
      "cell_type": "code",
      "execution_count": 98,
      "metadata": {},
      "outputs": [
        {
          "data": {
            "text/plain": [
              "248"
            ]
          },
          "execution_count": 98,
          "metadata": {},
          "output_type": "execute_result"
        }
      ],
      "source": [
        "# Value di country_region yang bukan merupakan negara\n",
        "negara = ['Winter Olympics 2022', 'Summer Olympics 2020', 'Diamond Princess', 'MS Zaandam']\n",
        "\n",
        "# Mengexclude row dari country_region sesuai dengan value dari variable negara\n",
        "df = df[df.country_region.isin(negara) == False]\n",
        "\n",
        "# Menampilkan jumlah negara setelah dihapus\n",
        "df['country_region'].nunique()"
      ]
    },
    {
      "attachments": {},
      "cell_type": "markdown",
      "metadata": {},
      "source": [
        "248 Negara sudah termasuk standar dari \"The United Nations' \"UN/LOCODE Code List by Country and Territory\" lists 248 countries and territories;\" "
      ]
    },
    {
      "attachments": {},
      "cell_type": "markdown",
      "metadata": {},
      "source": [
        "lanjut ke perubahan nama kolom dikarenakan nama kolom yang lumayan panjang"
      ]
    },
    {
      "cell_type": "code",
      "execution_count": 99,
      "metadata": {},
      "outputs": [
        {
          "data": {
            "text/plain": [
              "Index(['country', 'date', 'confirmed', 'deaths', 'recovered', 'active'], dtype='object')"
            ]
          },
          "execution_count": 99,
          "metadata": {},
          "output_type": "execute_result"
        }
      ],
      "source": [
        "# Merubah nama province_state menjadi state dan country_region menjadi country \n",
        "df.rename(columns={'country_region' : 'country'}, inplace=True)\n",
        "\n",
        "# Menampilkan kolom pada dataframe\n",
        "df.columns"
      ]
    },
    {
      "attachments": {},
      "cell_type": "markdown",
      "metadata": {},
      "source": [
        "Nama kolom yang sudah enak dilihat, selanjutnya apa **masing-masing features** dan juga **\"expected types\"** dari kolom dataset ini?\n",
        "\n",
        "Header | Features | Data Type \n",
        "---|---|---\n",
        "`country` | Nama Negara | string atau object\n",
        "`date` | tanggal | datetime atau object\n",
        "`confirmed` | Pasien yang dikonfirmasi terinfeksi virus covid-19 | integer\n",
        "`deaths` | Pasien yang meninggal dunia akibat virus covid-19 | integer\n",
        "`recovered` | Pasien yang sembuh dari covid-19 | integer\n",
        "`active` | Pasien yang masih terinfeksi Covid-19  | integer"
      ]
    },
    {
      "cell_type": "code",
      "execution_count": 100,
      "metadata": {},
      "outputs": [
        {
          "data": {
            "text/plain": [
              "country       object\n",
              "date          object\n",
              "confirmed    float64\n",
              "deaths       float64\n",
              "recovered    float64\n",
              "active       float64\n",
              "dtype: object"
            ]
          },
          "execution_count": 100,
          "metadata": {},
          "output_type": "execute_result"
        }
      ],
      "source": [
        "# Melihat tipe data dari masing-masing kolom\n",
        "df.dtypes"
      ]
    },
    {
      "attachments": {},
      "cell_type": "markdown",
      "metadata": {},
      "source": [
        "Pada `confirmed`, `deaths`, `recovered`, `active` tipe data merupakan float. Kolom tersebut harusnya berisikan data individu manusia yang tidak mungkin berisi angka desimal. Oleh karena itu saya ingin merubah tipe datanya menjadi integer. "
      ]
    },
    {
      "cell_type": "code",
      "execution_count": 101,
      "metadata": {},
      "outputs": [],
      "source": [
        "# Mengubah tipe data pada kolom menggunakan astype()\n",
        "df = df.astype({'confirmed' : pd.Int64Dtype(), 'deaths' : pd.Int64Dtype(), 'recovered' : pd.Int64Dtype(), 'active' : pd.Int64Dtype()})"
      ]
    },
    {
      "attachments": {},
      "cell_type": "markdown",
      "metadata": {},
      "source": [
        "untuk `country`, tipe data objek sudah benar. Sedangkan `date` akan saya ubah menjadi datetime"
      ]
    },
    {
      "cell_type": "code",
      "execution_count": 102,
      "metadata": {},
      "outputs": [],
      "source": [
        "# Mengubah tipe data pada kolom date menjadi datetime\n",
        "df['date'] = pd.to_datetime(df['date'])"
      ]
    },
    {
      "attachments": {},
      "cell_type": "markdown",
      "metadata": {},
      "source": [
        "### **Missing Values**\n",
        "\n",
        "untuk melihat apa saja missing values dari dataset ini, saya akan menggunakan kombinasi `isnull()` dan `sum()`"
      ]
    },
    {
      "cell_type": "code",
      "execution_count": 103,
      "metadata": {},
      "outputs": [
        {
          "name": "stdout",
          "output_type": "stream",
          "text": [
            "country            1\n",
            "date               0\n",
            "confirmed         19\n",
            "deaths           442\n",
            "recovered    2826348\n",
            "active       2834427\n",
            "dtype: int64\n"
          ]
        }
      ],
      "source": [
        "# Menampilkan jumlah data yang null\n",
        "print(df.isnull().sum())"
      ]
    },
    {
      "attachments": {},
      "cell_type": "markdown",
      "metadata": {},
      "source": [
        "Saya akan meghapus 1 nilai null dari kolom `country` dengan menghapus barisnya menggunakan `dropna()`"
      ]
    },
    {
      "cell_type": "code",
      "execution_count": 104,
      "metadata": {},
      "outputs": [],
      "source": [
        "# Menghapus row dari colom country_region yang mengandung NaN\n",
        "df = df.dropna(subset=['country'])"
      ]
    },
    {
      "attachments": {},
      "cell_type": "markdown",
      "metadata": {},
      "source": [
        "dan juga akan menghapus 19 null values dari kolom `confirmed` dengan cara yang sama"
      ]
    },
    {
      "cell_type": "code",
      "execution_count": 105,
      "metadata": {},
      "outputs": [],
      "source": [
        "# Menghapus row dari colom confirmed yang mengandung NaN\n",
        "df = df.dropna(subset=['confirmed'])"
      ]
    },
    {
      "attachments": {},
      "cell_type": "markdown",
      "metadata": {},
      "source": [
        "sekarang, untuk nilai dari kolom `deaths` saya akan fill datanya dengan `fillna()`, dan untuk mendapatkan value yang akan diisi bisa didapatkan dengan menggunakan rumus `deaths` = `confirmed` - (`recovered` + `active`) "
      ]
    },
    {
      "cell_type": "code",
      "execution_count": 106,
      "metadata": {},
      "outputs": [],
      "source": [
        "# Menggunakan fillna() untuk mengisi NaN pada kolom deaths\n",
        "df['deaths'].fillna(df.confirmed - (df.recovered + df.active), inplace = True)"
      ]
    },
    {
      "cell_type": "code",
      "execution_count": 107,
      "metadata": {},
      "outputs": [
        {
          "name": "stdout",
          "output_type": "stream",
          "text": [
            "country            0\n",
            "date               0\n",
            "confirmed          0\n",
            "deaths           422\n",
            "recovered    2826329\n",
            "active       2834408\n",
            "dtype: int64\n"
          ]
        }
      ],
      "source": [
        "# Melihat jumlah null value dari kolom deaths yang sudah diisi\n",
        "print(df.isnull().sum())"
      ]
    },
    {
      "attachments": {},
      "cell_type": "markdown",
      "metadata": {},
      "source": [
        "Ternyata null values dari kolom `deaths` masih sama yaitu 442. Artinya data pada baris yang ada Null di kolom `deaths` juga memiliki nilai Null pada kolom `active` dan `recovered`\n",
        "\n",
        "Dikarenakan null values dari kolom `death` tidak terlalu banyak, maka saya akan drop baris yang terdapat Nullnya"
      ]
    },
    {
      "cell_type": "code",
      "execution_count": 108,
      "metadata": {},
      "outputs": [],
      "source": [
        "# Menghapus row dari colom confirmed yang mengandung NaN\n",
        "df = df.dropna(subset=['deaths'])"
      ]
    },
    {
      "attachments": {},
      "cell_type": "markdown",
      "metadata": {},
      "source": [
        "Yang terakhir adalah pada kolom `recovered` dan kolom `active`, \n",
        "\n",
        "Dikarenakan kedua kolom tersebut banyak yang berisi null dan tidak terlalu berkaitan dengan problem statement saya miliki, lebih baik saya drop kedua kolom tersebut dan membuat kolom baru bernamakan `alive` yang berisikan gabungan dari kolom `active` dan `recovered`. Untuk menghilangkan null values, pengisian kolom `alive` bisa dilakukan dengan cara `alive` = `confirmed` - `deaths`   "
      ]
    },
    {
      "cell_type": "code",
      "execution_count": 109,
      "metadata": {},
      "outputs": [],
      "source": [
        "# Menghapus kolom active dan recovered\n",
        "df = df.drop(['active','recovered'], axis = 1)\n",
        "\n",
        "# Membuat kolom baru bernama alive yang valuenya didapat dari confirmed - deaths\n",
        "df['alive'] = df['confirmed'] - df['deaths']"
      ]
    },
    {
      "cell_type": "code",
      "execution_count": 110,
      "metadata": {},
      "outputs": [
        {
          "data": {
            "text/html": [
              "<div>\n",
              "<style scoped>\n",
              "    .dataframe tbody tr th:only-of-type {\n",
              "        vertical-align: middle;\n",
              "    }\n",
              "\n",
              "    .dataframe tbody tr th {\n",
              "        vertical-align: top;\n",
              "    }\n",
              "\n",
              "    .dataframe thead th {\n",
              "        text-align: right;\n",
              "    }\n",
              "</style>\n",
              "<table border=\"1\" class=\"dataframe\">\n",
              "  <thead>\n",
              "    <tr style=\"text-align: right;\">\n",
              "      <th></th>\n",
              "      <th>country</th>\n",
              "      <th>date</th>\n",
              "      <th>confirmed</th>\n",
              "      <th>deaths</th>\n",
              "      <th>alive</th>\n",
              "    </tr>\n",
              "  </thead>\n",
              "  <tbody>\n",
              "    <tr>\n",
              "      <th>0</th>\n",
              "      <td>US</td>\n",
              "      <td>2020-05-15</td>\n",
              "      <td>3</td>\n",
              "      <td>0</td>\n",
              "      <td>3</td>\n",
              "    </tr>\n",
              "    <tr>\n",
              "      <th>1</th>\n",
              "      <td>US</td>\n",
              "      <td>2020-05-15</td>\n",
              "      <td>88</td>\n",
              "      <td>0</td>\n",
              "      <td>88</td>\n",
              "    </tr>\n",
              "    <tr>\n",
              "      <th>2</th>\n",
              "      <td>US</td>\n",
              "      <td>2020-05-15</td>\n",
              "      <td>695</td>\n",
              "      <td>23</td>\n",
              "      <td>672</td>\n",
              "    </tr>\n",
              "    <tr>\n",
              "      <th>3</th>\n",
              "      <td>US</td>\n",
              "      <td>2020-05-15</td>\n",
              "      <td>1</td>\n",
              "      <td>0</td>\n",
              "      <td>1</td>\n",
              "    </tr>\n",
              "    <tr>\n",
              "      <th>4</th>\n",
              "      <td>US</td>\n",
              "      <td>2020-05-15</td>\n",
              "      <td>8</td>\n",
              "      <td>0</td>\n",
              "      <td>8</td>\n",
              "    </tr>\n",
              "  </tbody>\n",
              "</table>\n",
              "</div>"
            ],
            "text/plain": [
              "  country       date  confirmed  deaths  alive\n",
              "0      US 2020-05-15          3       0      3\n",
              "1      US 2020-05-15         88       0     88\n",
              "2      US 2020-05-15        695      23    672\n",
              "3      US 2020-05-15          1       0      1\n",
              "4      US 2020-05-15          8       0      8"
            ]
          },
          "execution_count": 110,
          "metadata": {},
          "output_type": "execute_result"
        }
      ],
      "source": [
        "# Menampilkan 5 row teratas dari dataframe\n",
        "df.head()"
      ]
    },
    {
      "attachments": {},
      "cell_type": "markdown",
      "metadata": {},
      "source": [
        "Jika dilihat dari kolom `date` diatas, country US memiliki data dengan tanggal yang sama. Hal itu dikarenakan sebelumnya data itu dimiliki oleh kolom `state` yang tidak saya ambil dari datasetnya. \n",
        "\n",
        "Untuk merapikan datanya, saya akan menggabungkan value pada kolom `confirmed`, `deaths` dan `alive` pada tanggal yang sama untuk setiap country"
      ]
    },
    {
      "cell_type": "code",
      "execution_count": 111,
      "metadata": {},
      "outputs": [
        {
          "data": {
            "text/html": [
              "<div>\n",
              "<style scoped>\n",
              "    .dataframe tbody tr th:only-of-type {\n",
              "        vertical-align: middle;\n",
              "    }\n",
              "\n",
              "    .dataframe tbody tr th {\n",
              "        vertical-align: top;\n",
              "    }\n",
              "\n",
              "    .dataframe thead th {\n",
              "        text-align: right;\n",
              "    }\n",
              "</style>\n",
              "<table border=\"1\" class=\"dataframe\">\n",
              "  <thead>\n",
              "    <tr style=\"text-align: right;\">\n",
              "      <th></th>\n",
              "      <th>country</th>\n",
              "      <th>date</th>\n",
              "      <th>confirmed</th>\n",
              "      <th>deaths</th>\n",
              "      <th>alive</th>\n",
              "    </tr>\n",
              "  </thead>\n",
              "  <tbody>\n",
              "    <tr>\n",
              "      <th>0</th>\n",
              "      <td>US</td>\n",
              "      <td>2020-05-15</td>\n",
              "      <td>1442824</td>\n",
              "      <td>87530</td>\n",
              "      <td>1355294</td>\n",
              "    </tr>\n",
              "    <tr>\n",
              "      <th>1</th>\n",
              "      <td>Italy</td>\n",
              "      <td>2020-05-15</td>\n",
              "      <td>223885</td>\n",
              "      <td>31610</td>\n",
              "      <td>192275</td>\n",
              "    </tr>\n",
              "    <tr>\n",
              "      <th>2</th>\n",
              "      <td>United Kingdom</td>\n",
              "      <td>2020-05-15</td>\n",
              "      <td>238004</td>\n",
              "      <td>34078</td>\n",
              "      <td>203926</td>\n",
              "    </tr>\n",
              "    <tr>\n",
              "      <th>3</th>\n",
              "      <td>China</td>\n",
              "      <td>2020-05-15</td>\n",
              "      <td>84038</td>\n",
              "      <td>4637</td>\n",
              "      <td>79401</td>\n",
              "    </tr>\n",
              "    <tr>\n",
              "      <th>4</th>\n",
              "      <td>Germany</td>\n",
              "      <td>2020-05-15</td>\n",
              "      <td>175233</td>\n",
              "      <td>7897</td>\n",
              "      <td>167336</td>\n",
              "    </tr>\n",
              "  </tbody>\n",
              "</table>\n",
              "</div>"
            ],
            "text/plain": [
              "          country       date  confirmed  deaths    alive\n",
              "0              US 2020-05-15    1442824   87530  1355294\n",
              "1           Italy 2020-05-15     223885   31610   192275\n",
              "2  United Kingdom 2020-05-15     238004   34078   203926\n",
              "3           China 2020-05-15      84038    4637    79401\n",
              "4         Germany 2020-05-15     175233    7897   167336"
            ]
          },
          "execution_count": 111,
          "metadata": {},
          "output_type": "execute_result"
        }
      ],
      "source": [
        "# Menggabungkan value dari confirmed, deaths dan alive pada tanggal yang sama \n",
        "df = df.groupby(['country', 'date'], sort = False)[['confirmed', 'deaths', 'alive']].sum().reset_index()\n",
        "# Menampilkan 5 row teratas dari dataframe\n",
        "df.head()"
      ]
    },
    {
      "attachments": {},
      "cell_type": "markdown",
      "metadata": {},
      "source": [
        "Sekarang, saya akan lihat apakah masih ada null valuenya"
      ]
    },
    {
      "cell_type": "code",
      "execution_count": 112,
      "metadata": {},
      "outputs": [
        {
          "name": "stdout",
          "output_type": "stream",
          "text": [
            "country      0\n",
            "date         0\n",
            "confirmed    0\n",
            "deaths       0\n",
            "alive        0\n",
            "dtype: int64\n"
          ]
        }
      ],
      "source": [
        "# Melihat jumlah null value dari dataframe \n",
        "print(df.isnull().sum())"
      ]
    },
    {
      "attachments": {},
      "cell_type": "markdown",
      "metadata": {},
      "source": [
        "Sudah tidak terdapat missing value pada dataframe."
      ]
    },
    {
      "attachments": {},
      "cell_type": "markdown",
      "metadata": {
        "id": "GSTD0LFZSZf8"
      },
      "source": [
        "# **Exploring the Data**"
      ]
    },
    {
      "attachments": {},
      "cell_type": "markdown",
      "metadata": {},
      "source": [
        "Untuk pembukaan, saya ingin melihat data negara yang penduduknya paling banyak terinfeksi covid-19 di awal pandemi yaitu tahun 2020"
      ]
    },
    {
      "cell_type": "code",
      "execution_count": 113,
      "metadata": {},
      "outputs": [
        {
          "data": {
            "text/html": [
              "<div>\n",
              "<style scoped>\n",
              "    .dataframe tbody tr th:only-of-type {\n",
              "        vertical-align: middle;\n",
              "    }\n",
              "\n",
              "    .dataframe tbody tr th {\n",
              "        vertical-align: top;\n",
              "    }\n",
              "\n",
              "    .dataframe thead th {\n",
              "        text-align: right;\n",
              "    }\n",
              "</style>\n",
              "<table border=\"1\" class=\"dataframe\">\n",
              "  <thead>\n",
              "    <tr style=\"text-align: right;\">\n",
              "      <th></th>\n",
              "      <th>country</th>\n",
              "      <th>confirmed</th>\n",
              "    </tr>\n",
              "  </thead>\n",
              "  <tbody>\n",
              "    <tr>\n",
              "      <th>221</th>\n",
              "      <td>US</td>\n",
              "      <td>19968087</td>\n",
              "    </tr>\n",
              "    <tr>\n",
              "      <th>98</th>\n",
              "      <td>India</td>\n",
              "      <td>10266674</td>\n",
              "    </tr>\n",
              "    <tr>\n",
              "      <th>26</th>\n",
              "      <td>Brazil</td>\n",
              "      <td>7675973</td>\n",
              "    </tr>\n",
              "    <tr>\n",
              "      <th>175</th>\n",
              "      <td>Russia</td>\n",
              "      <td>3127347</td>\n",
              "    </tr>\n",
              "    <tr>\n",
              "      <th>72</th>\n",
              "      <td>France</td>\n",
              "      <td>2677666</td>\n",
              "    </tr>\n",
              "  </tbody>\n",
              "</table>\n",
              "</div>"
            ],
            "text/plain": [
              "    country  confirmed\n",
              "221      US   19968087\n",
              "98    India   10266674\n",
              "26   Brazil    7675973\n",
              "175  Russia    3127347\n",
              "72   France    2677666"
            ]
          },
          "execution_count": 113,
          "metadata": {},
          "output_type": "execute_result"
        }
      ],
      "source": [
        "# Mengkonversi tanggal yang baru dibuat ke datetime, untuk menyamakan tipe data dari kolom date yang merupakan datetime\n",
        "tanggal_awal = pd.to_datetime('2020-01-01')\n",
        "tanggal_akhir = pd.to_datetime('2020-12-31')\n",
        "\n",
        "# Query dengan kondisi date di tahun 2020, dan mengroup country berdasarkan nilai max dari kolom confirmed\n",
        "terinfeksi = df.query(\"@tanggal_awal <= date <= @tanggal_akhir\").groupby('country')['confirmed'].max().reset_index()\n",
        "\n",
        "# Mengurutkan value confirmed dari yang tertinggi\n",
        "terinfeksi = terinfeksi.sort_values('confirmed', ascending = False)\n",
        "\n",
        "# Melihat 5 data teratas dari dataframe terinfeksi yang baru dibuat\n",
        "terinfeksi.head()"
      ]
    },
    {
      "attachments": {},
      "cell_type": "markdown",
      "metadata": {},
      "source": [
        "19 Juta jiwa manusia terinfeksi covid-19 di US pada tahun 2020"
      ]
    },
    {
      "attachments": {},
      "cell_type": "markdown",
      "metadata": {},
      "source": [
        "Selanjutnya untuk menyelesaikan problem statement yg pertama, saya akan melihat negara yang penduduknya terinfeksi covid-19 terbanyak dan yang paling sedikit, untuk mengetahuinya bisa menggunakan `df.query()`"
      ]
    },
    {
      "cell_type": "code",
      "execution_count": 114,
      "metadata": {},
      "outputs": [
        {
          "name": "stdout",
          "output_type": "stream",
          "text": [
            "Negara dengan infeksi covid-19 tertinggi adalah negara US dengan total 103802702 manusia\n",
            "Negara dengan infeksi covid-19 terendah adalah negara Palau dengan total 0 manusia\n"
          ]
        }
      ],
      "source": [
        "# Membuat variable baru dari dataframe dengan mengambil nilai terendah dan tertinggi dari kolom confirmed\n",
        "tertinggi = df.query(\"confirmed == confirmed.max()\")\n",
        "terendah = df.query(\"confirmed == confirmed.min()\")\n",
        "\n",
        "# Membuat variable baru untuk melihat index ke 0 dari data tertinggi\n",
        "negara_tertinggi = tertinggi['country'].iloc[0]\n",
        "jumlah_tertinggi = tertinggi['confirmed'].iloc[0]\n",
        "\n",
        "# Membuat variable baru untuk melihat index ke 0 dari data terendah\n",
        "negara_terendah = terendah['country'].iloc[0]\n",
        "jumlah_terendah = terendah['confirmed'].iloc[0]\n",
        "\n",
        "# Print hasil\n",
        "print(f'Negara dengan infeksi covid-19 tertinggi adalah negara {negara_tertinggi} dengan total {jumlah_tertinggi} manusia')\n",
        "print(f'Negara dengan infeksi covid-19 terendah adalah negara {negara_terendah} dengan total {jumlah_terendah} manusia')"
      ]
    },
    {
      "attachments": {},
      "cell_type": "markdown",
      "metadata": {},
      "source": [
        "Whoa, sebanyak 103.802.702 jiwa manusia di US terinfeksi covid-19. Jika dibandingkan dengan populasinya, itu sama dengan **31.27%** orang!\n",
        "\n",
        "\n",
        "Saya akan memvisualisasikan perkembangan kasusnya"
      ]
    },
    {
      "cell_type": "code",
      "execution_count": 115,
      "metadata": {},
      "outputs": [
        {
          "data": {
            "image/png": "[encoded data removed]",
            "text/plain": [
              "<Figure size 640x480 with 1 Axes>"
            ]
          },
          "metadata": {},
          "output_type": "display_data"
        }
      ],
      "source": [
        "# Membuat variable baru untuk menampung country dari US\n",
        "us = df.query(\"country == 'US'\")\n",
        "\n",
        "# Menggabungkan date dengan maksimal value dari kolom confirmed\n",
        "terinfeksi_us = us.groupby('date')['confirmed'].sum()\n",
        "\n",
        "# Membuat plot\n",
        "plt.plot(terinfeksi_us.index,terinfeksi_us.values)\n",
        "\n",
        "# Membuat label pada plot\n",
        "plt.xlabel('Date')\n",
        "plt.xticks(rotation=45)\n",
        "plt.ylabel('Confirmed')\n",
        "plt.title('Kasus positif Covid-19 di US')\n",
        "\n",
        "# Menambah grid pada plot\n",
        "plt.grid(True)\n",
        "\n",
        "# Menampilkan plot\n",
        "plt.show()\n"
      ]
    },
    {
      "attachments": {},
      "cell_type": "markdown",
      "metadata": {},
      "source": [
        "Setelah melihat yang dari US, saya juga ingin melihat perkembangan kasus covid-19 dari waktu ke waktu di setiap negara."
      ]
    },
    {
      "cell_type": "code",
      "execution_count": 116,
      "metadata": {},
      "outputs": [
        {
          "data": {
            "image/png": "[encoded data removed]",
            "text/plain": [
              "<Figure size 640x480 with 1 Axes>"
            ]
          },
          "metadata": {},
          "output_type": "display_data"
        }
      ],
      "source": [
        "# Membuat variabel baru dengan menggabungkan total manusia yang terinfeksi\n",
        "terinfeksi = df.groupby('date')['confirmed'].sum()\n",
        "\n",
        "# Membuat plot dari tanggal sebagai indexnya dan nilai maksimal confirmed sebagai valuenya\n",
        "plt.plot(terinfeksi.index, terinfeksi.values)\n",
        "\n",
        "# Membuat label pada plot\n",
        "plt.xlabel('Date')\n",
        "plt.xticks(rotation=45)\n",
        "plt.ylabel('Confirmed')\n",
        "plt.title('Perkembangan wabah Covid-19 di setiap negara')\n",
        "\n",
        "# Menambah grid pada plot\n",
        "plt.grid(True)\n",
        "\n",
        "# Menampilkan plot\n",
        "plt.show()"
      ]
    },
    {
      "attachments": {},
      "cell_type": "markdown",
      "metadata": {},
      "source": [
        " Pada tahun 2022, terdapat lonjakan tinggi di bulan 1 sampai bulan 5"
      ]
    },
    {
      "attachments": {},
      "cell_type": "markdown",
      "metadata": {},
      "source": [
        "Sekarang, saya ingin melihat urutan negara dengan jumlah kematian terbanyak akibat covid-19"
      ]
    },
    {
      "cell_type": "code",
      "execution_count": 117,
      "metadata": {},
      "outputs": [
        {
          "data": {
            "text/html": [
              "<div>\n",
              "<style scoped>\n",
              "    .dataframe tbody tr th:only-of-type {\n",
              "        vertical-align: middle;\n",
              "    }\n",
              "\n",
              "    .dataframe tbody tr th {\n",
              "        vertical-align: top;\n",
              "    }\n",
              "\n",
              "    .dataframe thead th {\n",
              "        text-align: right;\n",
              "    }\n",
              "</style>\n",
              "<table border=\"1\" class=\"dataframe\">\n",
              "  <thead>\n",
              "    <tr style=\"text-align: right;\">\n",
              "      <th></th>\n",
              "      <th>country</th>\n",
              "      <th>deaths</th>\n",
              "    </tr>\n",
              "  </thead>\n",
              "  <tbody>\n",
              "    <tr>\n",
              "      <th>133</th>\n",
              "      <td>Malaysia</td>\n",
              "      <td>1917085</td>\n",
              "    </tr>\n",
              "    <tr>\n",
              "      <th>229</th>\n",
              "      <td>US</td>\n",
              "      <td>1123836</td>\n",
              "    </tr>\n",
              "    <tr>\n",
              "      <th>27</th>\n",
              "      <td>Brazil</td>\n",
              "      <td>699276</td>\n",
              "    </tr>\n",
              "    <tr>\n",
              "      <th>99</th>\n",
              "      <td>India</td>\n",
              "      <td>530779</td>\n",
              "    </tr>\n",
              "    <tr>\n",
              "      <th>181</th>\n",
              "      <td>Russia</td>\n",
              "      <td>388478</td>\n",
              "    </tr>\n",
              "  </tbody>\n",
              "</table>\n",
              "</div>"
            ],
            "text/plain": [
              "      country   deaths\n",
              "133  Malaysia  1917085\n",
              "229        US  1123836\n",
              "27     Brazil   699276\n",
              "99      India   530779\n",
              "181    Russia   388478"
            ]
          },
          "execution_count": 117,
          "metadata": {},
          "output_type": "execute_result"
        }
      ],
      "source": [
        "# Mengroup data berdasarkan country dan mencari nilai maximum dari kolom deaths\n",
        "group = df.groupby('country')['deaths'].max().reset_index()\n",
        "\n",
        "# Mengurutkan dataframe dari yang terbesar \n",
        "negara_tertinggi = group.sort_values('deaths', ascending=False)\n",
        "\n",
        "# melihat hasil dataframe baru\n",
        "negara_tertinggi.head()"
      ]
    },
    {
      "attachments": {},
      "cell_type": "markdown",
      "metadata": {},
      "source": [
        "Untuk memvisualisasikan hasilnya :"
      ]
    },
    {
      "cell_type": "code",
      "execution_count": 118,
      "metadata": {},
      "outputs": [
        {
          "data": {
            "image/png": "[encoded data removed]",
            "text/plain": [
              "<Figure size 640x480 with 1 Axes>"
            ]
          },
          "metadata": {},
          "output_type": "display_data"
        }
      ],
      "source": [
        "# Mengambil 5 data diatas menggunakan iloc()\n",
        "negara_tertinggi = negara_tertinggi.iloc[0:5, :]\n",
        "\n",
        "# Membuat plot bar dari data negara tertinggi tadi\n",
        "plt.bar(negara_tertinggi['country'], negara_tertinggi['deaths'])\n",
        "\n",
        "# Membuat label pada plot\n",
        "plt.xlabel('Country')\n",
        "plt.ylabel('Deaths')\n",
        "plt.title('5 Negara dengan jumlah kematian tertinggi akibat Covid-19')\n",
        "\n",
        "# Menampilkan plot\n",
        "plt.show()"
      ]
    },
    {
      "attachments": {},
      "cell_type": "markdown",
      "metadata": {},
      "source": [
        "Malaysia berada paling atas degan jumlah kematian mencapai 1.917.085, lumayan aneh but gapapa. Saya akan lanjut ke problem statement terakhir saya yaitu melihat peforma Indonesia vs US dalam menangani kasus covid-19\n",
        "\n",
        "Peforma dilihat dengan banyaknya jumlah kematian, dibandingkan dengan jumlah populasi penduduk"
      ]
    },
    {
      "cell_type": "code",
      "execution_count": 119,
      "metadata": {},
      "outputs": [
        {
          "name": "stdout",
          "output_type": "stream",
          "text": [
            "Kematian di indonesia akibat covid-19 yaitu 0.06% dari jumlah penduduk\n",
            "Kematian di US akibat covid-19 yaitu 0.34% dari jumlah penduduk\n"
          ]
        }
      ],
      "source": [
        "# variable untuk menampung jumlah populasi penduduk dari negara Indonesia dan US di tahun 2022\n",
        "penduduk_indonesia = 275770000\n",
        "penduduk_us = 334870000\n",
        "\n",
        "# Membuat clone dari dataframe untuk menyimpan data yang countrynya Indonesia dan US\n",
        "indonesia = df.query(\"country == 'Indonesia'\")\n",
        "us = df.query(\"country == 'US'\")\n",
        "\n",
        "# Mengambil nilai dari kolom deaths tertinggi di data indonesia dan us\n",
        "indonesia = indonesia['deaths'].max()\n",
        "us = us['deaths'].max()\n",
        "\n",
        "# Menghitung berapa persen dari penduduk yang meninggal akibat covid-19\n",
        "total_indonesia = indonesia / penduduk_indonesia * 100\n",
        "total_us = us / penduduk_us *100\n",
        "\n",
        "# Membulatkan hasil \n",
        "total_indonesia = round(total_indonesia,2)\n",
        "total_us = round(total_us,2)\n",
        "\n",
        "# Menampilkan hasil\n",
        "print(f'Kematian di indonesia akibat covid-19 yaitu {total_indonesia}% dari jumlah penduduk')\n",
        "print(f'Kematian di US akibat covid-19 yaitu {total_us}% dari jumlah penduduk')"
      ]
    },
    {
      "attachments": {},
      "cell_type": "markdown",
      "metadata": {},
      "source": [
        "Selanjutnya saya akan visualisasi hasilnya"
      ]
    },
    {
      "cell_type": "code",
      "execution_count": 120,
      "metadata": {},
      "outputs": [
        {
          "data": {
            "image/png": "[encoded data removed]",
            "text/plain": [
              "<Figure size 640x480 with 1 Axes>"
            ]
          },
          "metadata": {},
          "output_type": "display_data"
        }
      ],
      "source": [
        "# Membuat list untuk menampung nilai x dan y\n",
        "x = ['Indonesia', 'US']\n",
        "y = [total_indonesia, total_us]\n",
        "\n",
        "# Label pada x dan y\n",
        "plt.ylabel('Negara')\n",
        "plt.ylabel('Persentase kematian')\n",
        "\n",
        "# Membuat bar plot pada x dan y\n",
        "plt.bar(x,y)\n",
        "\n",
        "# Menampilkan plotnya\n",
        "plt.show()"
      ]
    },
    {
      "attachments": {},
      "cell_type": "markdown",
      "metadata": {
        "id": "gDxVtfZ_SfOC"
      },
      "source": [
        "# **Conclusion**"
      ]
    },
    {
      "attachments": {},
      "cell_type": "markdown",
      "metadata": {},
      "source": [
        "\n",
        "\n",
        "\n",
        "Siapa yang lebih baik dalam penanganan wabah covid-19? Indonesia atau US ? \n",
        "\n",
        "\n",
        "* US Mempunyai sistem kesehatan yang maju dengan rumah sakit dan fasilitas medis yang canggih.\n",
        "* US merupakan negara yang sangat berpengaruh dalam penelitian dan pengembangan vaksin covid-19\n",
        "* US memiliki pengalaman dalam menangani pandemi-pandemi sebelumnya\n",
        "\n",
        "\n",
        "Jika dilihat dari perbandingan tingkat kematian dengan jumlah penduduk, Indonesia memang lebih baik dari US dalam menangani wabah covid-19. \n",
        "Namun, tentu saja ada faktor-faktor lain yang bisa menyebabkan US memiliki tingkat kematian lebih tinggi dari Indonesia\n",
        "\n",
        "salah satunya adalah US merupakan negara maju yang dimana penduduknya memiliki mobilitas dan interaksi sosial yang tinggi, Menyebabkan penyebaran virus yang luas dan lebih sulit untuk dikendalikan."
      ]
    }
  ],
  "metadata": {
    "colab": {
      "provenance": [],
      "toc_visible": true
    },
    "kernelspec": {
      "display_name": "Python 3",
      "name": "python3"
    },
    "language_info": {
      "codemirror_mode": {
        "name": "ipython",
        "version": 3
      },
      "file_extension": ".py",
      "mimetype": "text/x-python",
      "name": "python",
      "nbconvert_exporter": "python",
      "pygments_lexer": "ipython3",
      "version": "3.11.2"
    }
  },
  "nbformat": 4,
  "nbformat_minor": 0
}
